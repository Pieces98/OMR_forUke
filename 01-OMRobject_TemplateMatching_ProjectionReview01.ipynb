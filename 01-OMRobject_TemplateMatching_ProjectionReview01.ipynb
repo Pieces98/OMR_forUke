{
 "cells": [
  {
   "cell_type": "code",
   "execution_count": 1,
   "metadata": {
    "scrolled": true
   },
   "outputs": [],
   "source": [
    "import numpy as np\n",
    "import matplotlib.pyplot as plt\n",
    "import matplotlib.patches as patches\n",
    "\n",
    "import cv2\n",
    "import os, copy\n",
    "import time\n",
    "import imp\n",
    "\n",
    "import OMRobjects as OMR\n",
    "import util_functions as fs\n",
    "\n",
    "imp.reload(OMR)\n",
    "imp.reload(fs)\n",
    "\n",
    "%matplotlib inline"
   ]
  },
  {
   "cell_type": "code",
   "execution_count": 2,
   "metadata": {},
   "outputs": [
    {
     "name": "stdout",
     "output_type": "stream",
     "text": [
      "* Sheet Object Created :: Sheet #0 :: ./data/You_to_me_me_to_you/p1.png :: (1809, 1280)\n",
      "* Sheet Object Created :: Sheet #1 :: ./data/You_to_me_me_to_you/p2.png :: (1809, 1280)\n",
      "* Sheet Object Created :: Sheet #2 :: ./data/You_to_me_me_to_you/p3.png :: (1809, 1280)\n",
      "* Sheet Object Created :: Sheet #3 :: ./data/You_to_me_me_to_you/p4.png :: (1809, 1280)\n"
     ]
    }
   ],
   "source": [
    "sheet_path = './data/You_to_me_me_to_you'\n",
    "sheets = [OMR.Sheet(os.path.join(sheet_path, page_path), order=i) for i, page_path in enumerate(sorted(os.listdir(sheet_path)))]"
   ]
  },
  {
   "cell_type": "code",
   "execution_count": 3,
   "metadata": {},
   "outputs": [
    {
     "name": "stdout",
     "output_type": "stream",
     "text": [
      ">>> Preprocessing Page #00 :: ./data/You_to_me_me_to_you/p1.png\n",
      "* Deskewing :: PASS\n",
      "* Resizing :: PASS\n",
      "* Denoising :: PASS\n",
      "* Inverse binary thresholding :: threshold=200\n",
      ">>> Extracting systems : 5 systems\n",
      "* System Object Created :: System #0 of [...you/p1.png] :: (x, y, w, h) = (83, 188, 1136, 230)\n",
      "* System Object Created :: System #1 of [...you/p1.png] :: (x, y, w, h) = (79, 479, 1140, 220)\n",
      "* System Object Created :: System #2 of [...you/p1.png] :: (x, y, w, h) = (80, 773, 1139, 238)\n",
      "* System Object Created :: System #3 of [...you/p1.png] :: (x, y, w, h) = (83, 1070, 1136, 259)\n",
      "* System Object Created :: System #4 of [...you/p1.png] :: (x, y, w, h) = (83, 1382, 1137, 247)\n"
     ]
    }
   ],
   "source": [
    "sheet_sample = 0\n",
    "\n",
    "sheets[sheet_sample].preprocess_image(threshold=200)\n",
    "sheets[sheet_sample].create_system(sheets[sheet_sample])\n",
    "\n",
    "systems = sheets[sheet_sample].systems"
   ]
  },
  {
   "cell_type": "code",
   "execution_count": 4,
   "metadata": {
    "scrolled": true
   },
   "outputs": [
    {
     "name": "stdout",
     "output_type": "stream",
     "text": [
      "* StaffLines Object Created :: Staff Line Cluster #0 with 5 lines :: y = [56 67 78 89 99], average_interval = 11\n",
      "* StaffLines Object Created :: Staff Line Cluster #1 with 5 lines :: y = [169 180 191 201 212], average_interval = 11\n",
      "* Measure Object Created:: Measure #0 of System #0 of [...you/p1.png] :: (x, y, w, h) = [  0   0 352 230]\n",
      "* Measure Object Created:: Measure #1 of System #0 of [...you/p1.png] :: (x, y, w, h) = [352   0 363 230]\n",
      "* Measure Object Created:: Measure #2 of System #0 of [...you/p1.png] :: (x, y, w, h) = [715   0 419 230]\n"
     ]
    }
   ],
   "source": [
    "system_sample = 0\n",
    "\n",
    "systems[system_sample].get_pixel_histogram(depend_on='row')\n",
    "systems[system_sample].get_pixel_histogram(depend_on='col', grid=[0.3, 0.5, 0.7, 0.9, 0.95])\n",
    "\n",
    "hline_pos, hthickness = systems[system_sample].get_line_info(hist_by='row')\n",
    "vline_pos, vthickness = systems[system_sample].get_line_info(hist_by='col')\n",
    "vline_pos, vthickness = systems[system_sample].check_bar()\n",
    "\n",
    "systems[system_sample].reset_line_removed_image()\n",
    "systems[system_sample].remove_lines(hline_pos, hthickness, direction='hor')\n",
    "systems[system_sample].remove_lines(vline_pos, vthickness, direction='ver')\n",
    "systems[system_sample].clustering_staff()\n",
    "\n",
    "measures = systems[system_sample].create_measure(systems[system_sample])"
   ]
  },
  {
   "cell_type": "code",
   "execution_count": 17,
   "metadata": {},
   "outputs": [
    {
     "name": "stdout",
     "output_type": "stream",
     "text": [
      "[[1 1 1]\n",
      " [1 1 1]\n",
      " [1 1 1]] uint8 uint8\n",
      "[[1 1 1]\n",
      " [1 1 1]\n",
      " [1 1 1]] uint8 uint8\n",
      "[[1 1 1]\n",
      " [1 1 1]\n",
      " [1 1 1]] uint8 uint8\n"
     ]
    },
    {
     "ename": "error",
     "evalue": "OpenCV(4.5.5) /io/opencv/modules/imgproc/src/morph.simd.hpp:649: error: (-215:Assertion failed) _kernel.type() == CV_8U in function 'MorphFilter'\n",
     "output_type": "error",
     "traceback": [
      "\u001b[0;31m---------------------------------------------------------------------------\u001b[0m",
      "\u001b[0;31merror\u001b[0m                                     Traceback (most recent call last)",
      "\u001b[0;32m<ipython-input-17-666201d705c5>\u001b[0m in \u001b[0;36m<module>\u001b[0;34m\u001b[0m\n\u001b[1;32m     18\u001b[0m \u001b[0;32mfor\u001b[0m \u001b[0mi\u001b[0m \u001b[0;32min\u001b[0m \u001b[0mrange\u001b[0m\u001b[0;34m(\u001b[0m\u001b[0mnum_erode_dilate\u001b[0m\u001b[0;34m)\u001b[0m\u001b[0;34m:\u001b[0m\u001b[0;34m\u001b[0m\u001b[0;34m\u001b[0m\u001b[0m\n\u001b[1;32m     19\u001b[0m     \u001b[0mk\u001b[0m \u001b[0;34m=\u001b[0m \u001b[0mcv2\u001b[0m\u001b[0;34m.\u001b[0m\u001b[0mgetStructuringElement\u001b[0m\u001b[0;34m(\u001b[0m\u001b[0mcv2\u001b[0m\u001b[0;34m.\u001b[0m\u001b[0mMORPH_RECT\u001b[0m\u001b[0;34m,\u001b[0m \u001b[0mk_size\u001b[0m\u001b[0;34m)\u001b[0m\u001b[0;34m\u001b[0m\u001b[0;34m\u001b[0m\u001b[0m\n\u001b[0;32m---> 20\u001b[0;31m     \u001b[0mimage_ed\u001b[0m \u001b[0;34m=\u001b[0m \u001b[0mcv2\u001b[0m\u001b[0;34m.\u001b[0m\u001b[0mdilate\u001b[0m\u001b[0;34m(\u001b[0m\u001b[0mimage_ed\u001b[0m\u001b[0;34m,\u001b[0m \u001b[0mkernel_size\u001b[0m\u001b[0;34m)\u001b[0m\u001b[0;34m\u001b[0m\u001b[0;34m\u001b[0m\u001b[0m\n\u001b[0m\u001b[1;32m     21\u001b[0m \u001b[0;34m\u001b[0m\u001b[0m\n\u001b[1;32m     22\u001b[0m \u001b[0max\u001b[0m\u001b[0;34m[\u001b[0m\u001b[0;36m1\u001b[0m\u001b[0;34m]\u001b[0m\u001b[0;34m.\u001b[0m\u001b[0mimshow\u001b[0m\u001b[0;34m(\u001b[0m\u001b[0mimage_ed\u001b[0m\u001b[0;34m,\u001b[0m \u001b[0mcmap\u001b[0m\u001b[0;34m=\u001b[0m\u001b[0;34m'gray'\u001b[0m\u001b[0;34m)\u001b[0m\u001b[0;34m\u001b[0m\u001b[0;34m\u001b[0m\u001b[0m\n",
      "\u001b[0;31merror\u001b[0m: OpenCV(4.5.5) /io/opencv/modules/imgproc/src/morph.simd.hpp:649: error: (-215:Assertion failed) _kernel.type() == CV_8U in function 'MorphFilter'\n"
     ]
    },
    {
     "data": {
      "image/png": "[encoded data removed]",
      "text/plain": [
       "<Figure size 1440x360 with 2 Axes>"
      ]
     },
     "metadata": {
      "needs_background": "light"
     },
     "output_type": "display_data"
    }
   ],
   "source": [
    "measure_sample = 0\n",
    "\n",
    "num_erode_dilate = 3\n",
    "k_size = (3, 3)\n",
    "\n",
    "\n",
    "image_origin = measures[measure_sample].image_line_removed\n",
    "image_ed = image_origin.copy()\n",
    "\n",
    "fig, ax = plt.subplots(nrows=1, ncols=2, figsize=(20, 5))\n",
    "ax[0].imshow(image_origin, cmap='gray')\n",
    "ax[0].set_title('Original')\n",
    "\n",
    "for i in range(num_erode_dilate):\n",
    "    k = cv2.getStructuringElement(cv2.MORPH_RECT, k_size)\n",
    "    print(k, k.dtype, image_ed.dtype)\n",
    "    image_ed = cv2.erode(np.array(image_ed), k)\n",
    "for i in range(num_erode_dilate):\n",
    "    k = cv2.getStructuringElement(cv2.MORPH_RECT, k_size)\n",
    "    image_ed = cv2.dilate(image_ed, kernel_size)\n",
    "\n",
    "ax[1].imshow(image_ed, cmap='gray')\n",
    "ax[1].set_title(f'Erode & Dilate : {num_erode_dilate} times')\n",
    "\n",
    "fig.tight_layout()\n",
    "plt.show()"
   ]
  },
  {
   "cell_type": "code",
   "execution_count": null,
   "metadata": {},
   "outputs": [],
   "source": []
  },
  {
   "cell_type": "code",
   "execution_count": null,
   "metadata": {},
   "outputs": [],
   "source": []
  },
  {
   "cell_type": "code",
   "execution_count": null,
   "metadata": {},
   "outputs": [],
   "source": []
  },
  {
   "cell_type": "code",
   "execution_count": null,
   "metadata": {},
   "outputs": [],
   "source": []
  },
  {
   "cell_type": "code",
   "execution_count": null,
   "metadata": {},
   "outputs": [],
   "source": []
  }
 ],
 "metadata": {
  "kernelspec": {
   "display_name": "Python 3",
   "language": "python",
   "name": "python3"
  },
  "language_info": {
   "codemirror_mode": {
    "name": "ipython",
    "version": 3
   },
   "file_extension": ".py",
   "mimetype": "text/x-python",
   "name": "python",
   "nbconvert_exporter": "python",
   "pygments_lexer": "ipython3",
   "version": "3.7.4"
  }
 },
 "nbformat": 4,
 "nbformat_minor": 4
}
