{
 "cells": [
  {
   "cell_type": "code",
   "execution_count": 15,
   "metadata": {},
   "outputs": [],
   "source": [
    "import numpy as np\n",
    "\n",
    "import matplotlib\n",
    "import matplotlib.pyplot as plt\n",
    "import matplotlib.patches as patches\n",
    "\n",
    "import os, json\n",
    "import cv2\n",
    "import pickle\n",
    "\n",
    "import OMRobjects as OMR\n",
    "import imp\n",
    "imp.reload(OMR)\n",
    "\n",
    "%matplotlib inline"
   ]
  },
  {
   "cell_type": "code",
   "execution_count": 33,
   "metadata": {},
   "outputs": [],
   "source": [
    "sample_idx = 14\n",
    "\n",
    "with open(f'./OMRdatasets/Extracted_Templates/template_from_{sample_idx:04d}.pickle', 'rb') as fr:\n",
    "    origin_image, segmentation_image, color_obj_dict, staff_interval = pickle.load(fr)"
   ]
  },
  {
   "cell_type": "raw",
   "metadata": {
    "scrolled": false
   },
   "source": [
    "for i, color_dict in enumerate(color_obj_dict):\n",
    "    if np.all(color_dict['color'] == np.array([255, 255, 255])):\n",
    "        continue\n",
    "    fig, axes = plt.subplots(nrows=1, ncols=8, figsize=(24, 4))\n",
    "    for j, img in enumerate(color_dict['image']):\n",
    "        if len(axes) == j:\n",
    "            break\n",
    "        axes[j].imshow(img, cmap='gray')\n",
    "        x, y, _, _ = color_dict['bbox'][j]\n",
    "        axes[j].set_title(f'Obj{i} {j+1}/{len(color_dict[\"image\"])} @({x}, {y})')\n",
    "        axes[j].set_aspect('equal')\n",
    "    fig.tight_layout()\n",
    "    plt.show()\n",
    "print(f'{\"-=\"*10}Done{\"=-\"*10}')"
   ]
  },
  {
   "cell_type": "code",
   "execution_count": 34,
   "metadata": {},
   "outputs": [],
   "source": [
    "template_path = {\n",
    "    'Notes' : {\n",
    "        'Full' : None,\n",
    "        'Half' : None,\n",
    "        'Quarter' : None\n",
    "    }, \n",
    "    'Rests' : {\n",
    "        'Full' : None,\n",
    "        'Half' : None, \n",
    "        'Quarter' : None,\n",
    "        'Eighth' : None,\n",
    "        'Sixteenth' : None,\n",
    "    },\n",
    "    'KeySignatures' : {\n",
    "        'Flat' : None, \n",
    "        'Sharp' : None,\n",
    "        'Natural' : None\n",
    "    },\n",
    "    'Times' : {\n",
    "        'Time_4_4' : None, \n",
    "        'Time_3_4' : None,\n",
    "        'Time_2_4' : None,\n",
    "        'Time_6_8' : None,\n",
    "        'Time_8_12' : None,\n",
    "    }, \n",
    "    'Cleves' : {\n",
    "        'Treble' : None, \n",
    "        'Bass' : None, \n",
    "        'Alto' : None\n",
    "    }\n",
    "}"
   ]
  },
  {
   "cell_type": "raw",
   "metadata": {},
   "source": [
    "#926\n",
    "Notes = {\n",
    "    'Half': {15:[1, 3], 16:[3, 5]},\n",
    "    'Quarter' : {0:[2, 3, 6], 27:[2, 3]}, \n",
    "}\n",
    "Rests = {\n",
    "    'Quarter' : {28:[0, 2]},\n",
    "}\n",
    "KeySignatures = {\n",
    "    'Flat' : {3:[0, 1], 14:[0, 4]},\n",
    "    'Sharp' : {25:[0, 1, 5]},\n",
    "    'Natural' : {10:[0, 1, 4]}\n",
    "}\n",
    "Times = {\n",
    "    'Time_4_4' : {11:[0]}\n",
    "}\n",
    "Cleves = {\n",
    "    'Treble' : {21:[0, 2]}, \n",
    "    'Alto' : {19:[0, 2]}\n",
    "}\n",
    "Etc = {\n",
    "    'Etc':{9:[0]}\n",
    "}"
   ]
  },
  {
   "cell_type": "code",
   "execution_count": 35,
   "metadata": {},
   "outputs": [],
   "source": [
    "#14\n",
    "\n",
    "Notes = {\n",
    "    'Quarter' : {0:[0, 2]}, \n",
    "}\n",
    "Rests = {\n",
    "    'Quarter' : {25:[1]},\n",
    "    'Eighth' : {6:[0]}, \n",
    "    'Sixteenth' : {8:[0, 2]}\n",
    "}\n",
    "KeySignatures = {\n",
    "}\n",
    "Times = {\n",
    "}\n",
    "Cleves = {\n",
    "    'Treble' : {18:[0]}, \n",
    "    'Bass' : {24:[0, 1, 3]}\n",
    "}\n",
    "Etc = {\n",
    "    'Etc':{9:[0]}\n",
    "}"
   ]
  },
  {
   "cell_type": "code",
   "execution_count": 36,
   "metadata": {},
   "outputs": [
    {
     "name": "stdout",
     "output_type": "stream",
     "text": [
      "27\n",
      "<class 'dict'>\n",
      "dict_keys(['num_obj', 'image', 'bbox', 'color'])\n",
      "4\n"
     ]
    }
   ],
   "source": [
    "print(len(color_obj_dict))\n",
    "print(type(color_obj_dict[0]))\n",
    "print(color_obj_dict[0].keys())\n",
    "print(len(color_obj_dict[0]))\n",
    "\n",
    "def save_template(save_root, idx_dict):\n",
    "    print(f'>>Root : {save_root}')\n",
    "    for k, d in idx_dict.items():\n",
    "        save_path = os.path.join(save_root, k)\n",
    "        print(save_path)\n",
    "        for idx, pick_list in d.items():\n",
    "            print(f'{idx:2d}: ', end='')\n",
    "            for j in pick_list:\n",
    "                image = color_obj_dict[idx]['image'][j]\n",
    "                cv2.imwrite(os.path.join(save_path, f'{k}_{sample_idx:04d}_{staff_interval:02d}_{idx:02d}_{j:03d}.jpg'), image)\n",
    "                print(f'{j:2d}', end='--')\n",
    "            print('Done.')\n",
    "    print('-=-=-=-=- Done -=-=-=-=-')"
   ]
  },
  {
   "cell_type": "code",
   "execution_count": 37,
   "metadata": {},
   "outputs": [
    {
     "name": "stdout",
     "output_type": "stream",
     "text": [
      ">>Root : ./data/symbols/Notes\n",
      "./data/symbols/Notes/Quarter\n",
      " 0:  0-- 2--Done.\n",
      "-=-=-=-=- Done -=-=-=-=-\n",
      ">>Root : ./data/symbols/Rests\n",
      "./data/symbols/Rests/Quarter\n",
      "25:  1--Done.\n",
      "./data/symbols/Rests/Eighth\n",
      " 6:  0--Done.\n",
      "./data/symbols/Rests/Sixteenth\n",
      " 8:  0-- 2--Done.\n",
      "-=-=-=-=- Done -=-=-=-=-\n",
      ">>Root : ./data/symbols/KeySignatures\n",
      "-=-=-=-=- Done -=-=-=-=-\n",
      ">>Root : ./data/symbols/Times\n",
      "-=-=-=-=- Done -=-=-=-=-\n",
      ">>Root : ./data/symbols/Cleves\n",
      "./data/symbols/Cleves/Treble\n",
      "18:  0--Done.\n",
      "./data/symbols/Cleves/Bass\n",
      "24:  0-- 1-- 3--Done.\n",
      "-=-=-=-=- Done -=-=-=-=-\n",
      ">>Root : ./data/symbols\n",
      "./data/symbols/Etc\n",
      " 9:  0--Done.\n",
      "-=-=-=-=- Done -=-=-=-=-\n"
     ]
    }
   ],
   "source": [
    "save_template('./data/symbols/Notes', Notes)\n",
    "save_template('./data/symbols/Rests', Rests)\n",
    "save_template('./data/symbols/KeySignatures', KeySignatures)\n",
    "save_template('./data/symbols/Times', Times)\n",
    "save_template('./data/symbols/Cleves', Cleves)\n",
    "save_template('./data/symbols', Etc)"
   ]
  },
  {
   "cell_type": "code",
   "execution_count": null,
   "metadata": {},
   "outputs": [],
   "source": []
  }
 ],
 "metadata": {
  "kernelspec": {
   "display_name": "Python 3",
   "language": "python",
   "name": "python3"
  },
  "language_info": {
   "codemirror_mode": {
    "name": "ipython",
    "version": 3
   },
   "file_extension": ".py",
   "mimetype": "text/x-python",
   "name": "python",
   "nbconvert_exporter": "python",
   "pygments_lexer": "ipython3",
   "version": "3.7.4"
  }
 },
 "nbformat": 4,
 "nbformat_minor": 4
}
